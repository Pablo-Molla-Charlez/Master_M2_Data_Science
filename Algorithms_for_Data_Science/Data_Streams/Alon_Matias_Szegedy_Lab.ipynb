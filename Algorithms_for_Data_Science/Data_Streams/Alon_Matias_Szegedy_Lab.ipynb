{
 "cells": [
  {
   "cell_type": "markdown",
   "metadata": {
    "id": "OpOHLyhPpaxC"
   },
   "source": [
    "# Algorithms for Data Science -- Laboratory 5\n",
    "Author: Pablo Mollá Chárlez"
   ]
  },
  {
   "cell_type": "markdown",
   "metadata": {
    "id": "NvZ7rLY2pg8i"
   },
   "source": [
    "# Computing Moments of a Stream"
   ]
  },
  {
   "cell_type": "markdown",
   "metadata": {
    "id": "NqIyJ2BgplVA"
   },
   "source": [
    "## 1. Preliminaries \n",
    "\n",
    "The objective of this lab is to $\\textcolor{red}{\\text{implement the Alon-Matias-Szegedy approach}}$ to estimate the second moment of the stream, also called the $\\textcolor{orange}{\\text{surprise number}}$, in which $N$ distinct items from $0$ to $N-1$ appear."
   ]
  },
  {
   "cell_type": "code",
   "execution_count": 1,
   "metadata": {
    "id": "uj1GxrPF_DxQ"
   },
   "outputs": [],
   "source": [
    "import random\n",
    "\n",
    "# Parameters\n",
    "# N distinct values between 0 and N-1\n",
    "N = 256\n",
    "stream_size = 10000"
   ]
  },
  {
   "cell_type": "markdown",
   "metadata": {
    "id": "GgKzrJj3_oiX"
   },
   "source": [
    "## 2. Alon-Matias-Szegedy Algorithm for Second Moments\n",
    "\n",
    "We implement here the $\\textcolor{cyan}{\\text{Alon-Matias-Szegedy Algorithm}}$ when the stream size is known:\n",
    "\n",
    "1. We $\\textcolor{orange}{\\text{choose a number t between 0 and stream\\_size-1}}$ from which the counts are kept.\n",
    "\n",
    "2. When the stream is at timestamp $t$, we $\\textcolor{orange}{\\text{initialize v = S(t) and c=1}}$.\n",
    "\n",
    "3. $\\textcolor{orange}{\\text{Increment c by 1}}$, $\\textcolor{red}{\\text{if we encounter v}}$.\n",
    "\n",
    "At the end of the stream, we output the estimator:\n",
    "$$\n",
    "\\fbox{stream\\_size $\\times$ (2c-1)}\n",
    "$$\n",
    "\n",
    "This can be easily extended to an arbirary number of counts, by generating $k$ different timestamps and keeping arrays of $v$ and $c$."
   ]
  },
  {
   "cell_type": "code",
   "execution_count": 2,
   "metadata": {
    "colab": {
     "base_uri": "https://localhost:8080/",
     "height": 50
    },
    "id": "IbQ0B1a3BpAV",
    "outputId": "fa5700bf-7e9c-4303-aeae-736ce1b97b02"
   },
   "outputs": [
    {
     "name": "stdout",
     "output_type": "stream",
     "text": [
      "Estimation of 2nd moment: 356000\n",
      "True second moment: 400890\n"
     ]
    }
   ],
   "source": [
    "# Initialize values and counts\n",
    "v = []\n",
    "c = []\n",
    "\n",
    "# Keeping the true counts \n",
    "counts = {}\n",
    "\n",
    "# Choosing k timestamps\n",
    "k = 10\n",
    "t = []\n",
    "for _ in range(k):\n",
    "  t.append(random.randrange(stream_size))\n",
    "  v.append(-1)\n",
    "  c.append(0)\n",
    "\n",
    "for i in range(stream_size):\n",
    "  # Take a random value between 0 and N-1\n",
    "  s = random.randrange(N)\n",
    "  # AMS approach\n",
    "  for j in range(k):\n",
    "    # Chosen timestamp\n",
    "    if i==t[j]:\n",
    "      v[j] = s\n",
    "      c[j] = 1\n",
    "    # After timestamp  \n",
    "    elif i>t[j] and s==v[j]:\n",
    "      c[j] += 1\n",
    "  # True counts (only for evaluation!)\n",
    "  if s not in counts:\n",
    "    counts[s] = 0\n",
    "  counts[s] = counts[s]+1\n",
    "\n",
    "# True 2nd moment\n",
    "true = 0\n",
    "for x in counts.keys():\n",
    "  true += counts[x]*counts[x]\n",
    "\n",
    "# 2nd moment estimator\n",
    "est = 0\n",
    "for x in range(k):\n",
    "  est += 2*c[x]-1\n",
    "est = int((stream_size/k)*est)\n",
    "\n",
    "print('Estimation of 2nd moment: %d'%est)\n",
    "print('True second moment: %d'%true)"
   ]
  },
  {
   "cell_type": "markdown",
   "metadata": {
    "id": "Dz9rNT2Na35t"
   },
   "source": [
    "## 3. **TASK** AMS for Infinite Streams\n",
    "\n",
    "Implement the $\\textcolor{red}{\\text{case when the estimator does not know the size of the stream}}$.\n",
    "\n",
    "In this case, instead of generating $k$ timestamps, we $\\textcolor{cyan}{\\text{proceed to use Reservoir Sampling}}$ as explained in the lecture:\n",
    "\n",
    "1. Initialize $\\textcolor{orange}{\\text{v and c}}$ with the corresponding values in the first $k$ items in the stream $S$,\n",
    "\n",
    "2. For timestamp $t>k$, we $\\textcolor{orange}{\\text{decide whether to replace a v with probability } \\frac{k}{t}}$,\n",
    "\n",
    "3. If $\\textcolor{green}{\\text{true}}$, we $\\textcolor{green}{\\text{replace a value}}$ ($\\textcolor{green}{\\text{and its corresponding count}}$) $\\textcolor{green}{\\text{at random}}$ in the arrays $v$ and $c$ (and re-initialize the values)."
   ]
  },
  {
   "cell_type": "code",
   "execution_count": 3,
   "metadata": {},
   "outputs": [
    {
     "name": "stdout",
     "output_type": "stream",
     "text": [
      "True second moment: 400114\n",
      "Estimation of 2nd Moment with k = 10: 514000\n",
      "Estimation of 2nd Moment with k = 50: 395600\n",
      "Estimation of 2nd Moment with k = 100: 393200\n"
     ]
    }
   ],
   "source": [
    "import random\n",
    "\n",
    "# Parameters\n",
    "# N distinct values between 0 and N-1\n",
    "N = 256\n",
    "\n",
    "# Stream size\n",
    "stream_size = 10000\n",
    "\n",
    "# Different values of k to evaluate\n",
    "k_values = [10, 50, 100]\n",
    "\n",
    "# Keeping the true counts (for evaluation purposes)\n",
    "counts = {}\n",
    "stream = []\n",
    "\n",
    "# Simulating the stream\n",
    "for i in range(stream_size):\n",
    "    # Take a random value between 0 and N-1\n",
    "    s = random.randrange(N)\n",
    "    \n",
    "    # Storing stream values (only for evaluation purposes)\n",
    "    stream.append(s)\n",
    "    \n",
    "    # True counts (only for evaluation purposes)\n",
    "    if s not in counts:\n",
    "        counts[s] = 0\n",
    "    counts[s] += 1\n",
    "\n",
    "# True second moment (for evaluation)\n",
    "true_second_moment = sum(count * count for count in counts.values())\n",
    "print(f'True second moment: {true_second_moment}')\n",
    "\n",
    "# Evaluating AMS estimator for different k values\n",
    "for k in k_values:\n",
    "    # Initialize v and c for AMS algorithm\n",
    "    # To store the sampled values\n",
    "    v = [-1] * k\n",
    "    # To store the counts for the sampled values\n",
    "    c = [0] * k\n",
    "\n",
    "    # AMS algorithm with reservoir sampling\n",
    "    for i in range(stream_size):\n",
    "        # Use the previously generated stream values\n",
    "        s = stream[i]  \n",
    "\n",
    "        if i < k:\n",
    "            # Initialize v and c for the first k elements\n",
    "            v[i] = s\n",
    "            c[i] = 1\n",
    "        else:\n",
    "            # For elements after the first k, we use reservoir sampling\n",
    "            if random.random() < (k / (i + 1)):\n",
    "                # Choose a random index to replace\n",
    "                j = random.randint(0, k - 1)\n",
    "                \n",
    "                # Replace the value\n",
    "                v[j] = s\n",
    "                \n",
    "                # Reinitialize count\n",
    "                c[j] = 1\n",
    "            else:\n",
    "                # Check if the current stream value matches any in v\n",
    "                for j in range(k):\n",
    "                    if s == v[j]:\n",
    "                        # Increment the count if value matches\n",
    "                        c[j] += 1\n",
    "\n",
    "    # Estimating the second moment using AMS estimator\n",
    "    est_second_moment = 0\n",
    "    for x in range(k):\n",
    "        est_second_moment += (2 * c[x] - 1)\n",
    "\n",
    "    # Scale the estimate by stream_size / k\n",
    "    est_second_moment = int((stream_size / k) * est_second_moment)\n",
    "\n",
    "    # Output the estimated second moment for this k\n",
    "    print(f'Estimation of 2nd Moment with k = {k}: {est_second_moment}')\n"
   ]
  },
  {
   "cell_type": "markdown",
   "metadata": {
    "id": "FZHcE7Jve1PR"
   },
   "source": [
    "## 4. Discussion of Results:\n",
    "\n",
    "### 4.1 $\\underline{\\text{True Second Moment}}$:\n",
    "- We obtained as true second moment 400,114. This is the exact sum of the squares of the frequencies of the distinct items in the stream and it serves as a reference point for evaluating the accuracy of the AMS estimates.\n",
    "\n",
    "### 4.2 $\\underline{\\text{Estimation Results}}$:\n",
    "- Estimation of 2nd moment with $ k = 10 $: 514,000\n",
    "- Estimation of 2nd moment with $ k = 50 $: 395,600\n",
    "- Estimation of 2nd moment with $ k = 100 $: 393,200\n",
    "\n",
    "### 4.3 $\\underline{\\text{Observations}}$:\n",
    "\n",
    "#### 4.3.1 $\\underline{\\text{Impact of Sample Size k}}$:\n",
    "\n",
    "   - As expected, the accuracy of the AMS estimator improves as $k$ (the number of samples) increases.\n",
    "\n",
    "   - With a $\\textcolor{red}{\\text{small sample size k = 10}}$, the estimate is **514,000**, which $\\textcolor{red}{\\text{deviates significantly from the true second moment}}$ of **400,114** (about $\\textcolor{red}{\\text{28\\% higher}}$ than the true value). This reflects the $\\textcolor{red}{\\text{high variability}}$ in estimates when fewer samples are used.\n",
    "\n",
    "   - For $\\textcolor{orange}{\\text{k = 50}}$, the estimate of **395,600** is $\\textcolor{orange}{\\text{much closer to the true value}}$ (a $\\textcolor{orange}{\\text{deviation of only 1.1\\%}}$), suggesting that the algorithm is working well as the sample size grows.\n",
    "\n",
    "   - With $\\textcolor{green}{\\text{k = 100}}$, the estimate of **393,200** is as well close to the true second moment (a $\\textcolor{green}{\\text{deviation of 1.7\\%}}$, showing that a larger sample size further improves the precision of the estimate, though the $\\textcolor{orange}{\\text{improvement between k = 50}}$ is slightly better.\n",
    "\n",
    "#### 4.3.2 $\\underline{\\text{Variability in Smaller Samples}}$:\n",
    "\n",
    "   - The large difference for $\\textcolor{red}{\\text{k = 10}}$ highlights the randomness inherent in the reservoir sampling technique when only a few samples are taken. $\\textcolor{red}{\\text{With k = 10}}$, the AMS algorithm has fewer opportunities to track the distribution of frequencies accurately, leading to $\\textcolor{red}{\\text{more variability and less precision}}$.\n",
    "\n",
    "   - With $\\textcolor{green}{\\text{larger k values like k = 50 and k = 100}}$, the sample is better able to capture the distribution of elements in the stream, leading to $\\textcolor{green}{\\text{more accurate estimates}}$.\n",
    "\n",
    "#### 4.3.3 $\\underline{\\text{Trade-off between Memory and Accuracy}}$:\n",
    "   - $\\fbox{Memory}$: The value of $k$ directly determines how much memory the AMS algorithm uses, as it needs to store $k$ sampled values and their counts. $\\textcolor{orange}{\\text{Larger k values provide better estimates but require more memory}}$.\n",
    "\n",
    "   - $\\fbox{Accuracy}$: As seen in the results, the $\\textcolor{orange}{\\text{estimate becomes more accurate as k increases}}$. This illustrates the trade-off: using more memory (larger $k$) improves the accuracy of the estimate, $\\textcolor{orange}{\\text{but with diminishing returns beyond a certain point}}$ (e.g., the small improvement from $k = 50$ to $k = 100$).\n",
    "\n",
    "#### 4.3.4 $\\underline{\\text{Asymptotic Behavior}}$:\n",
    "   - In theory, as $k$ approaches infinity, the AMS estimate will converge to the true second moment. In practice, increasing $k$ from $50$ to $100$ produces only a marginal improvement, suggesting that beyond a certain threshold, $\\textcolor{red}{\\text{the gains in accuracy may not justify the additional memory cost}}$.\n"
   ]
  }
 ],
 "metadata": {
  "colab": {
   "collapsed_sections": [],
   "name": "m2_ds_algods_lab4_moments.ipynb",
   "provenance": []
  },
  "kernelspec": {
   "display_name": "Python 3.10.4 64-bit",
   "language": "python",
   "name": "python3"
  },
  "language_info": {
   "codemirror_mode": {
    "name": "ipython",
    "version": 3
   },
   "file_extension": ".py",
   "mimetype": "text/x-python",
   "name": "python",
   "nbconvert_exporter": "python",
   "pygments_lexer": "ipython3",
   "version": "3.12.6"
  },
  "vscode": {
   "interpreter": {
    "hash": "916dbcbb3f70747c44a77c7bcd40155683ae19c65e1c03b4aa3499c5328201f1"
   }
  }
 },
 "nbformat": 4,
 "nbformat_minor": 2
}
