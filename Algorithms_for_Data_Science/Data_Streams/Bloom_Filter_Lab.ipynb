{
 "cells": [
  {
   "cell_type": "markdown",
   "metadata": {
    "id": "OpOHLyhPpaxC"
   },
   "source": [
    "# Algorithms for Data Science -- Laboratory 3\n",
    "Author: Pablo Mollá Chárlez"
   ]
  },
  {
   "cell_type": "markdown",
   "metadata": {
    "id": "NvZ7rLY2pg8i"
   },
   "source": [
    "## Filtering Stream Items"
   ]
  },
  {
   "cell_type": "markdown",
   "metadata": {},
   "source": [
    "### 1. Preliminaries "
   ]
  },
  {
   "cell_type": "markdown",
   "metadata": {
    "id": "NqIyJ2BgplVA"
   },
   "source": [
    "The objective of this lab is to implement algorithms for filtering \"good\" items on streams. We will start by the simple implementation using only one hash function, and then it will be required of you to implement the full Bloom filter. We assume a random stream $S$ of $m$ email strings. We assume that the first $g$ emails are the good ones, that we have $n$ bits allocated in the bit array $B$ (for simplicity, implemented as an array here)."
   ]
  },
  {
   "cell_type": "code",
   "execution_count": 70,
   "metadata": {
    "id": "uj1GxrPF_DxQ"
   },
   "outputs": [
    {
     "name": "stdout",
     "output_type": "stream",
     "text": [
      "['wfdnr@pqujz', 'pqeno@hyjmk', 'jrtyf@sdfnw', 'qwsim@yslda', 'figxw@xxeva', 'egott@bedrx', 'bbotw@kythb', 'ggtnb@foirg', 'lfkgj@cwkqv', 'ylypp@ewrkq', 'nwfzb@yproi', 'gubfb@rnbhn', 'gvwbk@rvkrx', 'imqay@darfd', 'ptfjv@zfuvi', 'jjxid@aoowq', 'dtqal@rrtce', 'utubq@ffbqu', 'czxxs@uuxtr', 'mmykx@zznqc', 'xgkfa@cycwc', 'kgovt@ydyhl', 'damxf@jtcxx', 'dckfc@tmhog', 'nnenq@cjoti', 'erdob@ntfqi', 'jbwpv@qnjka', 'rlvqv@mpxte', 'dtwfn@wqwcg', 'fzmim@hjgee', 'wswde@bnizl', 'ikxsd@wjmyl', 'hybgr@kqfal', 'hfwys@ahlqf', 'hdioo@mkarx', 'nvguo@csolw', 'zqzfi@segjz', 'xyrrt@zaxyh', 'ulpex@khadw', 'iajln@kuhkg', 'umbcz@uwcwf', 'gtyur@qnkzi', 'uylvr@sszur', 'yhhmy@aigco', 'czzdv@cwtud', 'hafyg@gayvf', 'ogqsd@rwfjh', 'jleoa@ylplx', 'iwsss@nlgxs', 'cxdcx@eanfj', 'sdjno@qbdzq', 'celaa@ntegu', 'jjxqm@yojhe', 'xjtxp@boyiv', 'ldszv@bnkpq', 'esxju@cplju', 'jwwvz@sbdck', 'vpelg@kvxes', 'mbzlt@nntvi', 'ydbwu@xxgcs', 'xzvsw@epdmt', 'tubhh@lqljz', 'efztu@uhpwk', 'aujbf@zbekc', 'evgot@pyjfv', 'fojgj@xrbdk', 'bsjkr@gfrxh', 'tuprc@bkikp', 'gxrwl@qftga', 'wjoiu@nysgl', 'nacsw@dpoja', 'nnznn@fzbzz', 'vpenw@ypjyi', 'iprap@hdzlx', 'jfcxo@mosrw', 'hznqp@zrmoi', 'hfwqb@lbpes', 'tiptc@rzefl', 'neiwy@fhzuy', 'gyuxp@cdvuk', 'jgxat@bekyw', 'shios@vhetp', 'rgidf@ifkmd', 'lytid@gnznx', 'ddhqf@tlove', 'efncs@dcasv', 'fhopd@iyold', 'symki@ejxjm', 'nmsud@npaur', 'btzzh@qjrei', 'zudwy@wnzdi', 'bkjum@svgmd', 'pwyws@yaarl', 'rminh@kwbhk', 'epzyn@hlfrr', 'xeggi@kgphk', 'dbddw@kbcrm', 'kobyh@briyq', 'ufmsk@vbjwt', 'xyzgw@rvoid']\n"
     ]
    }
   ],
   "source": [
    "import random\n",
    "import math\n",
    "from string import ascii_lowercase\n",
    "\n",
    "# Parameters\n",
    "m = 100\n",
    "g = 10\n",
    "stream_size = 10000\n",
    "n = 512\n",
    "\n",
    "# Generate some random strings of size 5 + 1 (@) + 5\n",
    "D = [''.join(random.choice(ascii_lowercase) for _ in range(5)) + '@' + ''.join(random.choice(ascii_lowercase) for _ in range(5)) for _ in range(m)]\n",
    "\n",
    "print(D)"
   ]
  },
  {
   "cell_type": "markdown",
   "metadata": {
    "id": "GgKzrJj3_oiX"
   },
   "source": [
    "### 2. Creating a Hash Function, Filtering Items Using a Single Hash "
   ]
  },
  {
   "cell_type": "markdown",
   "metadata": {},
   "source": [
    "In the following we create a hash function $h(x)$, which also takes as a parameter a value and $n$, and returns a value in $0\\dots n-1$. We populate the byte array $B$, and then we simulate a stream taking random values from $D$ and checking whether the value is good or not. We measure the true positive, false positive, and false negative rates."
   ]
  },
  {
   "cell_type": "code",
   "execution_count": 71,
   "metadata": {
    "colab": {
     "base_uri": "https://localhost:8080/",
     "height": 35
    },
    "id": "IbQ0B1a3BpAV",
    "outputId": "0ee899b2-b9d8-4a43-8dce-ecf772cfc42a"
   },
   "outputs": [
    {
     "name": "stdout",
     "output_type": "stream",
     "text": [
      "Good Set: {'qwsim@yslda', 'figxw@xxeva', 'pqeno@hyjmk', 'wfdnr@pqujz', 'jrtyf@sdfnw', 'ylypp@ewrkq', 'ggtnb@foirg', 'egott@bedrx', 'bbotw@kythb', 'lfkgj@cwkqv'}\n",
      "Good - Byte Array: [0, 1, 0, 0, 0, 0, 0, 0, 0, 0, 0, 0, 0, 0, 0, 0, 1, 0, 0, 0, 0, 0, 0, 0, 0, 1, 0, 0, 0, 0, 0, 0, 1, 0, 0, 0, 0, 0, 0, 0, 0, 0, 0, 0, 0, 0, 1, 0, 0, 0, 1, 0, 0, 0, 0, 0, 0, 0, 0, 0, 1, 0, 0, 0, 0, 0, 0, 1, 1, 0, 0, 0, 0, 0, 0, 0, 0, 0, 0, 0, 0, 0, 0, 0, 0, 0, 0, 0, 0, 0, 0, 0, 0, 0, 0, 0, 0, 0, 0, 0, 1, 0, 0, 0, 0, 0, 0, 0, 0, 0, 0, 0, 0, 0, 0, 0, 0, 0, 0, 0, 0, 0, 0, 0, 0, 0, 0, 0]\n",
      "False positive rate: 0.022065\n"
     ]
    }
   ],
   "source": [
    "n = 128\n",
    "\n",
    "# Hash Function\n",
    "def h(x,n):\n",
    "  return hash(x)%n\n",
    "\n",
    "# Just for checking TP and FP rates\n",
    "good_set = set(D[:g])\n",
    "print(\"Good Set:\", good_set)\n",
    "\n",
    "# Allocate the array of 0s\n",
    "B = [0] * n\n",
    "\n",
    "# Fill the byte array\n",
    "for i in range(g): B[h(D[i],n)] = 1\n",
    "    \n",
    "print(\"Good - Byte Array:\", B)\n",
    "\n",
    "tp = 0 # good items passing = true positive\n",
    "fp = 0 # bad items passing = false positive\n",
    "tn = 0 # bad items discarded = true negative\n",
    "fn = 0 # good items discarded = false negative\n",
    "\n",
    "# Simulate a stream\n",
    "for _ in range(stream_size):\n",
    "  # Take a random email\n",
    "  s = random.choice(D)\n",
    "  # Check its hash value\n",
    "  if B[h(s,n)]==1: # Good\n",
    "    if s not in good_set:\n",
    "      fp += 1\n",
    "    else:\n",
    "      tp += 1\n",
    "  else: # Bad \n",
    "    if s in good_set:\n",
    "      fn += 1\n",
    "    else:\n",
    "      tn += 1\n",
    "\n",
    "print('False positive rate: %f'%(float(fp)/float(tn+fp)))"
   ]
  },
  {
   "cell_type": "markdown",
   "metadata": {
    "id": "poLqQQeBanUH"
   },
   "source": [
    "We may want to create a random hash function that can also be pairwise independent when we will need to generate $k$ independent pairwise hashes.\n",
    "The following procedure can be implemented:\n",
    "* choose a large prime number $p$\n",
    "* generate two random numbers $a$ and $b$ in the range $\\{1,\\dots,p\\}$\n",
    "* the hash is then $h_{a,b}(x)=ax+b \\mod p$\n",
    "* we can also restrict it into $\\{0,\\dots,n-1\\}$"
   ]
  },
  {
   "cell_type": "code",
   "execution_count": 72,
   "metadata": {
    "colab": {
     "base_uri": "https://localhost:8080/",
     "height": 55
    },
    "id": "muzsN80wa3gY",
    "outputId": "addce3d3-7228-4c61-9402-c2ebc55f0075"
   },
   "outputs": [
    {
     "name": "stdout",
     "output_type": "stream",
     "text": [
      "[0, 0, 0, 0, 0, 0, 0, 0, 0, 0, 0, 0, 0, 0, 0, 0, 1, 0, 1, 0, 0, 0, 0, 0, 0, 0, 0, 0, 0, 0, 0, 0, 0, 0, 0, 0, 0, 0, 1, 0, 0, 0, 0, 0, 0, 0, 0, 0, 0, 0, 0, 0, 0, 0, 0, 0, 0, 0, 0, 0, 0, 0, 0, 0, 0, 0, 1, 0, 0, 0, 1, 0, 0, 0, 0, 0, 0, 0, 1, 0, 0, 0, 0, 0, 0, 0, 0, 0, 0, 0, 0, 0, 0, 0, 0, 1, 0, 1, 0, 0, 0, 0, 0, 0, 0, 0, 1, 0, 0, 0, 0, 0, 0, 0, 0, 0, 0, 0, 0, 0, 0, 0, 0, 1, 0, 0, 0, 0]\n"
     ]
    }
   ],
   "source": [
    "# Large Prime Number\n",
    "p = 1223543677\n",
    "\n",
    "# 2 random numbers\n",
    "a = random.randrange(p)\n",
    "b = random.randrange(p)\n",
    "\n",
    "# Remark: here we use hash(x) instead of the values to allow for all hashable python types\n",
    "# e.g., strings, tuples\n",
    "def h(x,a,b,p,n):\n",
    "  return ((a*hash(x)+b)%p)%n\n",
    "\n",
    "# Reinitialize the array, for testing\n",
    "B = [0] * n\n",
    "\n",
    "for i in range(g): \n",
    "  B[h(D[i],a,b,p,n)] = 1\n",
    "\n",
    "print(B)"
   ]
  },
  {
   "cell_type": "markdown",
   "metadata": {
    "id": "Dz9rNT2Na35t"
   },
   "source": [
    "### 3. **TASK** - Bloom Filters\n"
   ]
  },
  {
   "cell_type": "markdown",
   "metadata": {},
   "source": [
    "Your task is to implement the Bloom filters as described in the class lecture. For this, you have to:\n",
    "\n",
    "1. Generate $k$ random pairwise independent hash functions (_hint_: use the example shown above)\n",
    "\n",
    "2. Initialize $B$, by setting $1$ in each $h_i(x)$, $i\\in\\{1,\\dots,k\\}$, for all items $x$ in the good set\n",
    "\n",
    "3. An item $s$ in the stream is considered good if, for all $i\\in\\{1,\\dots,k\\}$, we have $B[h_i(s)]=1$\n",
    "\n",
    "Measure the true positive and false positive rate for various values of $k$ and compare to the values obtained when setting $k=n/m\\ln 2$ (to the nearest integer value). What do you notice?\n",
    "\n",
    "Rates:\n",
    "\n",
    "- False positive rate: $\\frac{FP}{FP+TN}$\n",
    "\n",
    "- True positive rate: $\\frac{TP}{TP+FN}$"
   ]
  },
  {
   "cell_type": "code",
   "execution_count": 73,
   "metadata": {
    "id": "3Va-_6fda-jf"
   },
   "outputs": [
    {
     "name": "stdout",
     "output_type": "stream",
     "text": [
      "----------------------- Testing Bloom Filter -----------------------\n",
      "k = 1: False Positive Rate = 0.065172, True Positive Rate = 1.000000\n",
      "k = 2: False Positive Rate = 0.022391, True Positive Rate = 1.000000\n",
      "k = 3: False Positive Rate = 0.000000, True Positive Rate = 1.000000\n",
      "k = 5: False Positive Rate = 0.000000, True Positive Rate = 1.000000\n",
      "k = 10: False Positive Rate = 0.011869, True Positive Rate = 1.000000\n",
      "k = 15: False Positive Rate = 0.000000, True Positive Rate = 1.000000\n",
      "k = 20: False Positive Rate = 0.000000, True Positive Rate = 1.000000\n",
      "k = 25: False Positive Rate = 0.011767, True Positive Rate = 1.000000\n",
      "k = 30: False Positive Rate = 0.010252, True Positive Rate = 1.000000\n",
      "k = 100: False Positive Rate = 1.000000, True Positive Rate = 1.000000\n",
      "---------------------------------------------------------------------\n",
      "\n",
      "Optimal k = 1: False Positive Rate = 0.074247, True Positive Rate = 1.000000\n"
     ]
    }
   ],
   "source": [
    "# Generate k pairwise independent hash functions\n",
    "def generate_hash_functions(k, p, n):\n",
    "    # List to store all hash_functions\n",
    "    hash_functions = []\n",
    "    for _ in range(k):\n",
    "        # Random integers within the range defined by the prime number\n",
    "        a = random.randrange(1, p)\n",
    "        b = random.randrange(0, p)\n",
    "        \n",
    "        # Creating and appending of the hash functions\n",
    "        hash_functions.append(lambda x, a=a, b=b, p=p, n=n: ((a * hash(x) + b) % p) % n)\n",
    "    return hash_functions\n",
    "\n",
    "\n",
    "# Bloom filter implementation\n",
    "def bloom_filter(k, D, good_set, n, stream_size):\n",
    "    # Generate k hash functions\n",
    "    hash_functions = generate_hash_functions(k, p, n)\n",
    "\n",
    "    # Initialize the bit array\n",
    "    B = [0] * n\n",
    "\n",
    "    # Insert \"good\" emails into the Bloom filter\n",
    "    for email in good_set:\n",
    "        for h in hash_functions:\n",
    "            B[h(email)] = 1\n",
    "\n",
    "    # Check stream and compute rates\n",
    "    tp = 0  # true positives\n",
    "    fp = 0  # false positives\n",
    "    tn = 0  # true negatives\n",
    "    fn = 0  # false negatives\n",
    "\n",
    "    # Simulate the stream\n",
    "    for _ in range(stream_size):\n",
    "        s = random.choice(D)\n",
    "        if all(B[h(s)] == 1 for h in hash_functions):\n",
    "            if s in good_set:\n",
    "                tp += 1  # Correctly identified as good (true positive)\n",
    "            else:\n",
    "                fp += 1  # Incorrectly identified as good (false positive)\n",
    "        else:\n",
    "            if s in good_set:\n",
    "                fn += 1  # Incorrectly discarded (false negative)\n",
    "            else:\n",
    "                tn += 1  # Correctly discarded as bad (true negative)\n",
    "\n",
    "    # Calculate false positive and true positive rates\n",
    "    fpr = fp / (fp + tn) if (fp + tn) > 0 else 0\n",
    "    tpr = tp / (tp + fn) if (tp + fn) > 0 else 0\n",
    "\n",
    "    return fpr, tpr\n",
    "\n",
    "print(\"----------------------- Testing Bloom Filter -----------------------\")\n",
    "# Test with different values of k\n",
    "for k in [1, 2, 3, 5, 10, 15, 20, 25, 30, 100]:\n",
    "    fpr, tpr = bloom_filter(k, D, good_set, n, stream_size)\n",
    "    print(f'k = {k}: False Positive Rate = {fpr:.6f}, True Positive Rate = {tpr:.6f}')\n",
    "print(\"---------------------------------------------------------------------\\n\")\n",
    "\n",
    "\n",
    "# Optimal value of k = n/m * ln(2)\n",
    "optimal_k = round((n / m) * math.log(2))\n",
    "fpr, tpr = bloom_filter(optimal_k, D, good_set, n, stream_size)\n",
    "print(f'Optimal k = {optimal_k}: False Positive Rate = {fpr:.6f}, True Positive Rate = {tpr:.6f}')"
   ]
  }
 ],
 "metadata": {
  "colab": {
   "collapsed_sections": [],
   "name": "m2_ds_algods_lab2_filtering_solved.ipynb",
   "provenance": []
  },
  "kernelspec": {
   "display_name": "Python 3.10.4 64-bit",
   "language": "python",
   "name": "python3"
  },
  "language_info": {
   "codemirror_mode": {
    "name": "ipython",
    "version": 3
   },
   "file_extension": ".py",
   "mimetype": "text/x-python",
   "name": "python",
   "nbconvert_exporter": "python",
   "pygments_lexer": "ipython3",
   "version": "3.12.6"
  },
  "vscode": {
   "interpreter": {
    "hash": "916dbcbb3f70747c44a77c7bcd40155683ae19c65e1c03b4aa3499c5328201f1"
   }
  }
 },
 "nbformat": 4,
 "nbformat_minor": 2
}
